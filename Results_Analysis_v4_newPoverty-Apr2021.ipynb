{
 "cells": [
  {
   "cell_type": "code",
   "execution_count": 1,
   "metadata": {
    "collapsed": true
   },
   "outputs": [],
   "source": [
    "import os, time\n",
    "import country_converter as coco\n",
    "import mapclassify\n",
    "\n",
    "from osgeo import gdal\n",
    "import pandas as pd \n",
    "import geopandas as gpd\n",
    "import matplotlib\n",
    "import matplotlib.pyplot as plt\n",
    "%matplotlib inline\n",
    "import seaborn as sns\n",
    "import numpy as np\n",
    "from pathlib import Path \n",
    "import pycountry \n",
    "\n",
    "import rasterio as rs\n",
    "from rasterio.plot import show\n",
    "from rasterio.enums import Resampling\n",
    "from rasterio.plot import plotting_extent\n",
    "from rasterio.merge import merge\n",
    "import rasterio.mask\n",
    "from rasterio import shutil as rio_shutil\n",
    "from rasterio.vrt import WarpedVRT\n",
    "\n",
    "def tPrint(s):\n",
    "    print(\"%s\\t%s\" % (time.strftime(\"%H:%M:%S\"), s))"
   ]
  },
  {
   "cell_type": "code",
   "execution_count": 2,
   "metadata": {
    "collapsed": true
   },
   "outputs": [],
   "source": [
    "# To display large numbers in a readable format e.g. without xxe+04\n",
    "pd.options.display.float_format = '{:20,.2f}'.format"
   ]
  },
  {
   "cell_type": "code",
   "execution_count": 3,
   "metadata": {
    "collapsed": true,
    "scrolled": true
   },
   "outputs": [],
   "source": [
    "#path = Path('/home/wb411133/data/Projects/FATHOM') #Change Path \n",
    "path = Path('/Users/bjafino/Documents/GitHub/PovertyClimateFall2020/FATHOM')"
   ]
  },
  {
   "cell_type": "code",
   "execution_count": 4,
   "metadata": {
    "collapsed": true
   },
   "outputs": [],
   "source": [
    "newPoverty = path / 'FloodRiskPop_adm0_02.10.2020.csv'"
   ]
  },
  {
   "cell_type": "code",
   "execution_count": 5,
   "metadata": {
    "collapsed": true
   },
   "outputs": [],
   "source": [
    "## Results\n",
    "Results_FilePath = path / 'Outputs' / 'Results' / 'processed_countries_v02-final.shp'\n",
    "\n",
    "## Original adm file with all the columns\n",
    "AdmPath = path / 'GLOBAL' / 'GMGD world admin' / 'newold_geo_code2_povdata_v7.shp'\n",
    "adm_path_reproj = path / 'GLOBAL'  / 'GMGD world admin' / 'GMGD_reproj' / 'newold_geo_code2_povdata_v6_4326.shp'"
   ]
  },
  {
   "cell_type": "code",
   "execution_count": 6,
   "metadata": {
    "collapsed": true
   },
   "outputs": [],
   "source": [
    "# 0) No risk: x = 0\n",
    "# 1) Limited risk: x <= 0.15\n",
    "# 2) Moderate risk: 0.15 < x <= 0.5\n",
    "# 3) High risk: 0.5 < x <= 1.5\n",
    "# 4) Very high risk: x > 1.5\n",
    "# 5) Water body: x >= 999"
   ]
  },
  {
   "cell_type": "markdown",
   "metadata": {},
   "source": [
    "<a id='TOC'></a>\n",
    "# Table of Contents\n",
    "- [Preparing Data](#Prep)\n",
    " - Read in files\n",
    " - Add totals and percentages\n",
    " - Merge with admin for analysis\n",
    " - Add poverty columns\n",
    " - Merge with full admin and export\n",
    " - Prep country level results and export\n",
    "- [Validation](#QA)\n",
    " - Comparing flood pop totals to WDI pop"
   ]
  },
  {
   "cell_type": "markdown",
   "metadata": {},
   "source": [
    "<a id='Prep'></a>\n",
    "# Preparing data"
   ]
  },
  {
   "cell_type": "markdown",
   "metadata": {},
   "source": [
    "## Read in files"
   ]
  },
  {
   "cell_type": "code",
   "execution_count": 7,
   "metadata": {
    "collapsed": true,
    "scrolled": true
   },
   "outputs": [],
   "source": [
    "povertyAll = pd.read_csv(newPoverty)"
   ]
  },
  {
   "cell_type": "code",
   "execution_count": 8,
   "metadata": {},
   "outputs": [
    {
     "data": {
      "text/plain": [
       "Index(['ADM0_NAME', 'ISO3', 'sample', 'region', 'region_new', '0-NoRiskPo',\n",
       "       '1-LowRiskP', '2-Moderate', '3-HighRisk', '4-VeryHigh', 'geo_code2',\n",
       "       'totalPop', 'fldExpHi', 'fldExpRel', 'poor190_ln', 'poor320_ln',\n",
       "       'poor550_ln', 'npoor190_l', 'npoor320_l', 'npoor550_l', 'mean_ln',\n",
       "       'poorExp190', 'poorExp320', 'poorExp550', 'poorPct190', 'poorPct320',\n",
       "       'poorPct550', 'gdpExp'],\n",
       "      dtype='object')"
      ]
     },
     "execution_count": 8,
     "metadata": {},
     "output_type": "execute_result"
    }
   ],
   "source": [
    "povertyAll.columns"
   ]
  },
  {
   "cell_type": "code",
   "execution_count": 9,
   "metadata": {
    "collapsed": true,
    "scrolled": true
   },
   "outputs": [],
   "source": [
    "povertyAll['npoor190_ln'] = povertyAll['npoor190_l']\n",
    "povertyAll['npoor320_ln'] = povertyAll['npoor320_l']\n",
    "povertyAll['npoor550_ln'] = povertyAll['npoor550_l']"
   ]
  },
  {
   "cell_type": "code",
   "execution_count": 10,
   "metadata": {
    "collapsed": true
   },
   "outputs": [],
   "source": [
    "poverty = povertyAll[['geo_code2','poor190_ln', 'poor320_ln',\n",
    "       'poor550_ln', 'npoor190_ln', 'npoor320_ln', 'npoor550_ln',\n",
    "                 'mean_ln']]"
   ]
  },
  {
   "cell_type": "code",
   "execution_count": 11,
   "metadata": {},
   "outputs": [
    {
     "data": {
      "text/html": [
       "<div>\n",
       "<style scoped>\n",
       "    .dataframe tbody tr th:only-of-type {\n",
       "        vertical-align: middle;\n",
       "    }\n",
       "\n",
       "    .dataframe tbody tr th {\n",
       "        vertical-align: top;\n",
       "    }\n",
       "\n",
       "    .dataframe thead th {\n",
       "        text-align: right;\n",
       "    }\n",
       "</style>\n",
       "<table border=\"1\" class=\"dataframe\">\n",
       "  <thead>\n",
       "    <tr style=\"text-align: right;\">\n",
       "      <th></th>\n",
       "      <th>geo_code2</th>\n",
       "      <th>poor190_ln</th>\n",
       "      <th>poor320_ln</th>\n",
       "      <th>poor550_ln</th>\n",
       "      <th>npoor190_ln</th>\n",
       "      <th>npoor320_ln</th>\n",
       "      <th>npoor550_ln</th>\n",
       "      <th>mean_ln</th>\n",
       "    </tr>\n",
       "  </thead>\n",
       "  <tbody>\n",
       "    <tr>\n",
       "      <th>0</th>\n",
       "      <td>FSM_2013_GADM1_FSM_FSM.4_1</td>\n",
       "      <td>0.16</td>\n",
       "      <td>0.38</td>\n",
       "      <td>0.64</td>\n",
       "      <td>2,130.47</td>\n",
       "      <td>5,045.59</td>\n",
       "      <td>8,416.59</td>\n",
       "      <td>5.45</td>\n",
       "    </tr>\n",
       "    <tr>\n",
       "      <th>1</th>\n",
       "      <td>FSM_2013_GADM1_FSM_FSM.1_1</td>\n",
       "      <td>0.19</td>\n",
       "      <td>0.43</td>\n",
       "      <td>0.73</td>\n",
       "      <td>9,949.70</td>\n",
       "      <td>22,876.90</td>\n",
       "      <td>38,949.13</td>\n",
       "      <td>4.65</td>\n",
       "    </tr>\n",
       "  </tbody>\n",
       "</table>\n",
       "</div>"
      ],
      "text/plain": [
       "                    geo_code2           poor190_ln           poor320_ln  \\\n",
       "0  FSM_2013_GADM1_FSM_FSM.4_1                 0.16                 0.38   \n",
       "1  FSM_2013_GADM1_FSM_FSM.1_1                 0.19                 0.43   \n",
       "\n",
       "            poor550_ln          npoor190_ln          npoor320_ln  \\\n",
       "0                 0.64             2,130.47             5,045.59   \n",
       "1                 0.73             9,949.70            22,876.90   \n",
       "\n",
       "           npoor550_ln              mean_ln  \n",
       "0             8,416.59                 5.45  \n",
       "1            38,949.13                 4.65  "
      ]
     },
     "execution_count": 11,
     "metadata": {},
     "output_type": "execute_result"
    }
   ],
   "source": [
    "poverty.head(2)"
   ]
  },
  {
   "cell_type": "markdown",
   "metadata": {},
   "source": [
    "Columns:\n",
    "- poor190_ln : poverty rate at 1.9 (not in pct) in the area\n",
    "- noind_ln: number of individuals by area\n",
    "- totalind_l: total population in the country/data"
   ]
  },
  {
   "cell_type": "code",
   "execution_count": 12,
   "metadata": {
    "collapsed": true
   },
   "outputs": [],
   "source": [
    "# Read processed countries shapefile\n",
    "df = gpd.read_file(Results_FilePath)"
   ]
  },
  {
   "cell_type": "code",
   "execution_count": 13,
   "metadata": {
    "collapsed": true,
    "scrolled": true
   },
   "outputs": [],
   "source": [
    "for col in ['0-NoRiskPo', '1-LowRiskP', '2-Moderate', '3-HighRisk', '4-VeryHigh', '5-WaterBod']:\n",
    "    df[col] = df[col].astype(float)"
   ]
  },
  {
   "cell_type": "code",
   "execution_count": 14,
   "metadata": {
    "collapsed": true,
    "scrolled": true
   },
   "outputs": [],
   "source": [
    "# Distributing 5-WaterBody population to other five categories\n",
    "df.loc[:,'0-NoRiskPo'] += (df.loc[:,'5-WaterBod'] / 5)\n",
    "df.loc[:,'1-LowRiskP'] += (df.loc[:,'5-WaterBod'] / 5)\n",
    "df.loc[:,'2-Moderate'] += (df.loc[:,'5-WaterBod'] / 5)\n",
    "df.loc[:,'3-HighRisk'] += (df.loc[:,'5-WaterBod'] / 5)\n",
    "df.loc[:,'4-VeryHigh'] += (df.loc[:,'5-WaterBod'] / 5)"
   ]
  },
  {
   "cell_type": "code",
   "execution_count": 15,
   "metadata": {
    "collapsed": true
   },
   "outputs": [],
   "source": [
    "df = df[['ADM0_NAME', 'ISO3', 'sample', 'region',\n",
    "       '0-NoRiskPo', '1-LowRiskP', '2-Moderate', '3-HighRisk', '4-VeryHigh',\n",
    "       'geo_code2','geometry']]"
   ]
  },
  {
   "cell_type": "code",
   "execution_count": 16,
   "metadata": {},
   "outputs": [
    {
     "data": {
      "text/html": [
       "<div>\n",
       "<style scoped>\n",
       "    .dataframe tbody tr th:only-of-type {\n",
       "        vertical-align: middle;\n",
       "    }\n",
       "\n",
       "    .dataframe tbody tr th {\n",
       "        vertical-align: top;\n",
       "    }\n",
       "\n",
       "    .dataframe thead th {\n",
       "        text-align: right;\n",
       "    }\n",
       "</style>\n",
       "<table border=\"1\" class=\"dataframe\">\n",
       "  <thead>\n",
       "    <tr style=\"text-align: right;\">\n",
       "      <th></th>\n",
       "      <th>ADM0_NAME</th>\n",
       "      <th>ISO3</th>\n",
       "      <th>sample</th>\n",
       "      <th>region</th>\n",
       "      <th>0-NoRiskPo</th>\n",
       "      <th>1-LowRiskP</th>\n",
       "      <th>2-Moderate</th>\n",
       "      <th>3-HighRisk</th>\n",
       "      <th>4-VeryHigh</th>\n",
       "      <th>geo_code2</th>\n",
       "      <th>geometry</th>\n",
       "    </tr>\n",
       "  </thead>\n",
       "  <tbody>\n",
       "    <tr>\n",
       "      <th>2082</th>\n",
       "      <td>Russia</td>\n",
       "      <td>RUS</td>\n",
       "      <td>-1</td>\n",
       "      <td>ECA</td>\n",
       "      <td>20,871.68</td>\n",
       "      <td>9,319.61</td>\n",
       "      <td>2,404.91</td>\n",
       "      <td>905.77</td>\n",
       "      <td>289.24</td>\n",
       "      <td>RUS_-1_2015_ADM1_2537</td>\n",
       "      <td>POLYGON ((42.79087863729099 46.38847653824138,...</td>\n",
       "    </tr>\n",
       "    <tr>\n",
       "      <th>2083</th>\n",
       "      <td>Argentina</td>\n",
       "      <td>ARG</td>\n",
       "      <td>Urban sample</td>\n",
       "      <td>LAC</td>\n",
       "      <td>26,963,206.73</td>\n",
       "      <td>10,648,322.73</td>\n",
       "      <td>4,646,766.73</td>\n",
       "      <td>1,930,900.73</td>\n",
       "      <td>637,515.42</td>\n",
       "      <td>ARG_2018_ADM1_12</td>\n",
       "      <td>(POLYGON ((-64.13139343277857 -54.645515441929...</td>\n",
       "    </tr>\n",
       "  </tbody>\n",
       "</table>\n",
       "</div>"
      ],
      "text/plain": [
       "      ADM0_NAME ISO3        sample region           0-NoRiskPo  \\\n",
       "2082     Russia  RUS            -1    ECA            20,871.68   \n",
       "2083  Argentina  ARG  Urban sample    LAC        26,963,206.73   \n",
       "\n",
       "               1-LowRiskP           2-Moderate           3-HighRisk  \\\n",
       "2082             9,319.61             2,404.91               905.77   \n",
       "2083        10,648,322.73         4,646,766.73         1,930,900.73   \n",
       "\n",
       "               4-VeryHigh              geo_code2  \\\n",
       "2082               289.24  RUS_-1_2015_ADM1_2537   \n",
       "2083           637,515.42       ARG_2018_ADM1_12   \n",
       "\n",
       "                                               geometry  \n",
       "2082  POLYGON ((42.79087863729099 46.38847653824138,...  \n",
       "2083  (POLYGON ((-64.13139343277857 -54.645515441929...  "
      ]
     },
     "execution_count": 16,
     "metadata": {},
     "output_type": "execute_result"
    }
   ],
   "source": [
    "df.tail(2)"
   ]
  },
  {
   "cell_type": "markdown",
   "metadata": {},
   "source": [
    "## Adding totals and percentages"
   ]
  },
  {
   "cell_type": "code",
   "execution_count": 17,
   "metadata": {
    "collapsed": true
   },
   "outputs": [],
   "source": [
    "# Adding column with total pop for each row\n",
    "df.loc[:,'totalPop'] = df.sum(numeric_only=True, axis=1)"
   ]
  },
  {
   "cell_type": "code",
   "execution_count": 18,
   "metadata": {
    "collapsed": true
   },
   "outputs": [],
   "source": [
    "lastColIndex = df.columns.get_loc('4-VeryHigh')"
   ]
  },
  {
   "cell_type": "code",
   "execution_count": 22,
   "metadata": {
    "collapsed": true
   },
   "outputs": [],
   "source": [
    "# Adding column with total pop exposed to >15cm risk\n",
    "# Which refers to 2-Moderate Risk and above\n",
    "df.loc[:,'fldExpHi'] = df.iloc[:,lastColIndex-2:lastColIndex+1].sum(axis=1)"
   ]
  },
  {
   "cell_type": "code",
   "execution_count": 23,
   "metadata": {
    "collapsed": true
   },
   "outputs": [],
   "source": [
    "# Pct >15cm of total pop\n",
    "df.loc[:,'fldExpRel'] = (df.loc[:,'fldExpHi'] / \n",
    "                                    df.loc[:,'totalPop']) * 100"
   ]
  },
  {
   "cell_type": "markdown",
   "metadata": {},
   "source": [
    "## Merge adm"
   ]
  },
  {
   "cell_type": "code",
   "execution_count": 24,
   "metadata": {
    "collapsed": true
   },
   "outputs": [],
   "source": [
    "# Merging flood risk results (df) with subset of adm shapefile (adm_subset)\n",
    "# This def will be used for analysis\n",
    "# The rest of the adm shapefile will be merged later\n",
    "df = df.merge(poverty, on = 'geo_code2', how = 'outer')"
   ]
  },
  {
   "cell_type": "code",
   "execution_count": 26,
   "metadata": {},
   "outputs": [
    {
     "data": {
      "text/html": [
       "<div>\n",
       "<style scoped>\n",
       "    .dataframe tbody tr th:only-of-type {\n",
       "        vertical-align: middle;\n",
       "    }\n",
       "\n",
       "    .dataframe tbody tr th {\n",
       "        vertical-align: top;\n",
       "    }\n",
       "\n",
       "    .dataframe thead th {\n",
       "        text-align: right;\n",
       "    }\n",
       "</style>\n",
       "<table border=\"1\" class=\"dataframe\">\n",
       "  <thead>\n",
       "    <tr style=\"text-align: right;\">\n",
       "      <th></th>\n",
       "      <th>ADM0_NAME</th>\n",
       "      <th>ISO3</th>\n",
       "      <th>sample</th>\n",
       "      <th>region</th>\n",
       "      <th>0-NoRiskPo</th>\n",
       "      <th>1-LowRiskP</th>\n",
       "      <th>2-Moderate</th>\n",
       "      <th>3-HighRisk</th>\n",
       "      <th>4-VeryHigh</th>\n",
       "      <th>geo_code2</th>\n",
       "      <th>...</th>\n",
       "      <th>totalPop</th>\n",
       "      <th>fldExpHi</th>\n",
       "      <th>fldExpRel</th>\n",
       "      <th>poor190_ln</th>\n",
       "      <th>poor320_ln</th>\n",
       "      <th>poor550_ln</th>\n",
       "      <th>npoor190_ln</th>\n",
       "      <th>npoor320_ln</th>\n",
       "      <th>npoor550_ln</th>\n",
       "      <th>mean_ln</th>\n",
       "    </tr>\n",
       "  </thead>\n",
       "  <tbody>\n",
       "    <tr>\n",
       "      <th>0</th>\n",
       "      <td>Micronesia, Fed. Sts.</td>\n",
       "      <td>FSM</td>\n",
       "      <td>1?Yap</td>\n",
       "      <td>EAP</td>\n",
       "      <td>10,097.06</td>\n",
       "      <td>455.07</td>\n",
       "      <td>201.92</td>\n",
       "      <td>110.27</td>\n",
       "      <td>128.47</td>\n",
       "      <td>FSM_2013_GADM1_FSM_FSM.4_1</td>\n",
       "      <td>...</td>\n",
       "      <td>10,992.81</td>\n",
       "      <td>440.67</td>\n",
       "      <td>4.01</td>\n",
       "      <td>0.16</td>\n",
       "      <td>0.38</td>\n",
       "      <td>0.64</td>\n",
       "      <td>2,130.47</td>\n",
       "      <td>5,045.59</td>\n",
       "      <td>8,416.59</td>\n",
       "      <td>5.45</td>\n",
       "    </tr>\n",
       "    <tr>\n",
       "      <th>1</th>\n",
       "      <td>Micronesia, Fed. Sts.</td>\n",
       "      <td>FSM</td>\n",
       "      <td>2?Chuuk</td>\n",
       "      <td>EAP</td>\n",
       "      <td>40,962.77</td>\n",
       "      <td>1,052.19</td>\n",
       "      <td>730.31</td>\n",
       "      <td>192.48</td>\n",
       "      <td>7.45</td>\n",
       "      <td>FSM_2013_GADM1_FSM_FSM.1_1</td>\n",
       "      <td>...</td>\n",
       "      <td>42,945.20</td>\n",
       "      <td>930.24</td>\n",
       "      <td>2.17</td>\n",
       "      <td>0.19</td>\n",
       "      <td>0.43</td>\n",
       "      <td>0.73</td>\n",
       "      <td>9,949.70</td>\n",
       "      <td>22,876.90</td>\n",
       "      <td>38,949.13</td>\n",
       "      <td>4.65</td>\n",
       "    </tr>\n",
       "  </tbody>\n",
       "</table>\n",
       "<p>2 rows × 21 columns</p>\n",
       "</div>"
      ],
      "text/plain": [
       "               ADM0_NAME ISO3   sample region           0-NoRiskPo  \\\n",
       "0  Micronesia, Fed. Sts.  FSM    1?Yap    EAP            10,097.06   \n",
       "1  Micronesia, Fed. Sts.  FSM  2?Chuuk    EAP            40,962.77   \n",
       "\n",
       "            1-LowRiskP           2-Moderate           3-HighRisk  \\\n",
       "0               455.07               201.92               110.27   \n",
       "1             1,052.19               730.31               192.48   \n",
       "\n",
       "            4-VeryHigh                   geo_code2  ...             totalPop  \\\n",
       "0               128.47  FSM_2013_GADM1_FSM_FSM.4_1  ...            10,992.81   \n",
       "1                 7.45  FSM_2013_GADM1_FSM_FSM.1_1  ...            42,945.20   \n",
       "\n",
       "              fldExpHi            fldExpRel           poor190_ln  \\\n",
       "0               440.67                 4.01                 0.16   \n",
       "1               930.24                 2.17                 0.19   \n",
       "\n",
       "            poor320_ln           poor550_ln          npoor190_ln  \\\n",
       "0                 0.38                 0.64             2,130.47   \n",
       "1                 0.43                 0.73             9,949.70   \n",
       "\n",
       "           npoor320_ln          npoor550_ln              mean_ln  \n",
       "0             5,045.59             8,416.59                 5.45  \n",
       "1            22,876.90            38,949.13                 4.65  \n",
       "\n",
       "[2 rows x 21 columns]"
      ]
     },
     "execution_count": 26,
     "metadata": {},
     "output_type": "execute_result"
    }
   ],
   "source": [
    "df.head(2)"
   ]
  },
  {
   "cell_type": "code",
   "execution_count": 27,
   "metadata": {
    "collapsed": true,
    "scrolled": true
   },
   "outputs": [],
   "source": [
    "# reordering cols\n",
    "df = df[['ADM0_NAME', 'ISO3', 'sample', 'region', '0-NoRiskPo', '1-LowRiskP',\n",
    "       '2-Moderate', '3-HighRisk', '4-VeryHigh', 'geo_code2',\n",
    "       'totalPop', 'fldExpHi', 'fldExpRel', 'poor190_ln',\n",
    "       'poor320_ln', 'poor550_ln', 'npoor190_ln', 'npoor320_ln', 'npoor550_ln',\n",
    "       'mean_ln', 'geometry']]"
   ]
  },
  {
   "cell_type": "markdown",
   "metadata": {},
   "source": [
    "## Add in poverty pop exposure >15cm\n",
    "Data used:\n",
    "- poor190_ln : poverty rate at 1.9 (not in pct) in the area\n",
    "- poor320_ln\n",
    "- poor550_ln\n",
    "\n",
    "Cols created:\n",
    "- absolute number of poor exposed to >15cm flood risk\n",
    "- percent of people exposed to >15cm flood risk and are poor\n"
   ]
  },
  {
   "cell_type": "code",
   "execution_count": 28,
   "metadata": {
    "collapsed": true
   },
   "outputs": [],
   "source": [
    "# Adding column on the absolute number of poor exposed to flood risk above 15cm\n",
    "# multiply the poor190_ln by the total pop exposed to >15c flood \n",
    "df.loc[:,'poorExp190'] = (df.loc[:,'fldExpHi'] * df.loc[:,'poor190_ln'])\n",
    "df.loc[:,'poorExp320'] = (df.loc[:,'fldExpHi'] * df.loc[:,'poor320_ln'])\n",
    "df.loc[:,'poorExp550'] = (df.loc[:,'fldExpHi'] * df.loc[:,'poor550_ln'])"
   ]
  },
  {
   "cell_type": "code",
   "execution_count": 29,
   "metadata": {
    "collapsed": true
   },
   "outputs": [],
   "source": [
    "# Adding column on the pct of people exposed to >15cm flood and are poor\n",
    "df.loc[:,'poorPct190'] = (df.loc[:,'poorExp190'] / df.loc[:,'totalPop'])*100\n",
    "df.loc[:,'poorPct320'] = (df.loc[:,'poorExp320'] / df.loc[:,'totalPop'])*100\n",
    "df.loc[:,'poorPct550'] = (df.loc[:,'poorExp550'] / df.loc[:,'totalPop'])*100"
   ]
  },
  {
   "cell_type": "code",
   "execution_count": 30,
   "metadata": {},
   "outputs": [
    {
     "data": {
      "text/html": [
       "<div>\n",
       "<style scoped>\n",
       "    .dataframe tbody tr th:only-of-type {\n",
       "        vertical-align: middle;\n",
       "    }\n",
       "\n",
       "    .dataframe tbody tr th {\n",
       "        vertical-align: top;\n",
       "    }\n",
       "\n",
       "    .dataframe thead th {\n",
       "        text-align: right;\n",
       "    }\n",
       "</style>\n",
       "<table border=\"1\" class=\"dataframe\">\n",
       "  <thead>\n",
       "    <tr style=\"text-align: right;\">\n",
       "      <th></th>\n",
       "      <th>ADM0_NAME</th>\n",
       "      <th>ISO3</th>\n",
       "      <th>sample</th>\n",
       "      <th>region</th>\n",
       "      <th>0-NoRiskPo</th>\n",
       "      <th>1-LowRiskP</th>\n",
       "      <th>2-Moderate</th>\n",
       "      <th>3-HighRisk</th>\n",
       "      <th>4-VeryHigh</th>\n",
       "      <th>geo_code2</th>\n",
       "      <th>...</th>\n",
       "      <th>npoor320_ln</th>\n",
       "      <th>npoor550_ln</th>\n",
       "      <th>mean_ln</th>\n",
       "      <th>geometry</th>\n",
       "      <th>poorExp190</th>\n",
       "      <th>poorExp320</th>\n",
       "      <th>poorExp550</th>\n",
       "      <th>poorPct190</th>\n",
       "      <th>poorPct320</th>\n",
       "      <th>poorPct550</th>\n",
       "    </tr>\n",
       "  </thead>\n",
       "  <tbody>\n",
       "    <tr>\n",
       "      <th>0</th>\n",
       "      <td>Micronesia, Fed. Sts.</td>\n",
       "      <td>FSM</td>\n",
       "      <td>1?Yap</td>\n",
       "      <td>EAP</td>\n",
       "      <td>10,097.06</td>\n",
       "      <td>455.07</td>\n",
       "      <td>201.92</td>\n",
       "      <td>110.27</td>\n",
       "      <td>128.47</td>\n",
       "      <td>FSM_2013_GADM1_FSM_FSM.4_1</td>\n",
       "      <td>...</td>\n",
       "      <td>5,045.59</td>\n",
       "      <td>8,416.59</td>\n",
       "      <td>5.45</td>\n",
       "      <td>(POLYGON ((143.07833862 6.684165949999993, 143...</td>\n",
       "      <td>71.20</td>\n",
       "      <td>168.61</td>\n",
       "      <td>281.26</td>\n",
       "      <td>0.65</td>\n",
       "      <td>1.53</td>\n",
       "      <td>2.56</td>\n",
       "    </tr>\n",
       "    <tr>\n",
       "      <th>1</th>\n",
       "      <td>Micronesia, Fed. Sts.</td>\n",
       "      <td>FSM</td>\n",
       "      <td>2?Chuuk</td>\n",
       "      <td>EAP</td>\n",
       "      <td>40,962.77</td>\n",
       "      <td>1,052.19</td>\n",
       "      <td>730.31</td>\n",
       "      <td>192.48</td>\n",
       "      <td>7.45</td>\n",
       "      <td>FSM_2013_GADM1_FSM_FSM.1_1</td>\n",
       "      <td>...</td>\n",
       "      <td>22,876.90</td>\n",
       "      <td>38,949.13</td>\n",
       "      <td>4.65</td>\n",
       "      <td>(POLYGON ((153.6361084 5.291110039999997, 153....</td>\n",
       "      <td>173.76</td>\n",
       "      <td>399.52</td>\n",
       "      <td>680.20</td>\n",
       "      <td>0.40</td>\n",
       "      <td>0.93</td>\n",
       "      <td>1.58</td>\n",
       "    </tr>\n",
       "  </tbody>\n",
       "</table>\n",
       "<p>2 rows × 27 columns</p>\n",
       "</div>"
      ],
      "text/plain": [
       "               ADM0_NAME ISO3   sample region           0-NoRiskPo  \\\n",
       "0  Micronesia, Fed. Sts.  FSM    1?Yap    EAP            10,097.06   \n",
       "1  Micronesia, Fed. Sts.  FSM  2?Chuuk    EAP            40,962.77   \n",
       "\n",
       "            1-LowRiskP           2-Moderate           3-HighRisk  \\\n",
       "0               455.07               201.92               110.27   \n",
       "1             1,052.19               730.31               192.48   \n",
       "\n",
       "            4-VeryHigh                   geo_code2  ...          npoor320_ln  \\\n",
       "0               128.47  FSM_2013_GADM1_FSM_FSM.4_1  ...             5,045.59   \n",
       "1                 7.45  FSM_2013_GADM1_FSM_FSM.1_1  ...            22,876.90   \n",
       "\n",
       "           npoor550_ln              mean_ln  \\\n",
       "0             8,416.59                 5.45   \n",
       "1            38,949.13                 4.65   \n",
       "\n",
       "                                            geometry           poorExp190  \\\n",
       "0  (POLYGON ((143.07833862 6.684165949999993, 143...                71.20   \n",
       "1  (POLYGON ((153.6361084 5.291110039999997, 153....               173.76   \n",
       "\n",
       "            poorExp320           poorExp550           poorPct190  \\\n",
       "0               168.61               281.26                 0.65   \n",
       "1               399.52               680.20                 0.40   \n",
       "\n",
       "            poorPct320           poorPct550  \n",
       "0                 1.53                 2.56  \n",
       "1                 0.93                 1.58  \n",
       "\n",
       "[2 rows x 27 columns]"
      ]
     },
     "execution_count": 30,
     "metadata": {},
     "output_type": "execute_result"
    }
   ],
   "source": [
    "df.head(2)"
   ]
  },
  {
   "cell_type": "markdown",
   "metadata": {},
   "source": [
    "## Add in GDP exposure >15cm\n",
    "-[fldExpHi] * [mean_ln]\n",
    "\n"
   ]
  },
  {
   "cell_type": "code",
   "execution_count": 31,
   "metadata": {
    "collapsed": true
   },
   "outputs": [],
   "source": [
    "# Adding column on GDP exposed to flood risk above 15cm\n",
    "df.loc[:,'gdpExp'] = (df.loc[:,'fldExpHi'] * df.loc[:,'mean_ln'])"
   ]
  },
  {
   "cell_type": "code",
   "execution_count": 32,
   "metadata": {},
   "outputs": [
    {
     "data": {
      "text/html": [
       "<div>\n",
       "<style scoped>\n",
       "    .dataframe tbody tr th:only-of-type {\n",
       "        vertical-align: middle;\n",
       "    }\n",
       "\n",
       "    .dataframe tbody tr th {\n",
       "        vertical-align: top;\n",
       "    }\n",
       "\n",
       "    .dataframe thead th {\n",
       "        text-align: right;\n",
       "    }\n",
       "</style>\n",
       "<table border=\"1\" class=\"dataframe\">\n",
       "  <thead>\n",
       "    <tr style=\"text-align: right;\">\n",
       "      <th></th>\n",
       "      <th>ADM0_NAME</th>\n",
       "      <th>ISO3</th>\n",
       "      <th>sample</th>\n",
       "      <th>region</th>\n",
       "      <th>0-NoRiskPo</th>\n",
       "      <th>1-LowRiskP</th>\n",
       "      <th>2-Moderate</th>\n",
       "      <th>3-HighRisk</th>\n",
       "      <th>4-VeryHigh</th>\n",
       "      <th>geo_code2</th>\n",
       "      <th>...</th>\n",
       "      <th>npoor550_ln</th>\n",
       "      <th>mean_ln</th>\n",
       "      <th>geometry</th>\n",
       "      <th>poorExp190</th>\n",
       "      <th>poorExp320</th>\n",
       "      <th>poorExp550</th>\n",
       "      <th>poorPct190</th>\n",
       "      <th>poorPct320</th>\n",
       "      <th>poorPct550</th>\n",
       "      <th>gdpExp</th>\n",
       "    </tr>\n",
       "  </thead>\n",
       "  <tbody>\n",
       "    <tr>\n",
       "      <th>0</th>\n",
       "      <td>Micronesia, Fed. Sts.</td>\n",
       "      <td>FSM</td>\n",
       "      <td>1?Yap</td>\n",
       "      <td>EAP</td>\n",
       "      <td>10,097.06</td>\n",
       "      <td>455.07</td>\n",
       "      <td>201.92</td>\n",
       "      <td>110.27</td>\n",
       "      <td>128.47</td>\n",
       "      <td>FSM_2013_GADM1_FSM_FSM.4_1</td>\n",
       "      <td>...</td>\n",
       "      <td>8,416.59</td>\n",
       "      <td>5.45</td>\n",
       "      <td>(POLYGON ((143.07833862 6.684165949999993, 143...</td>\n",
       "      <td>71.20</td>\n",
       "      <td>168.61</td>\n",
       "      <td>281.26</td>\n",
       "      <td>0.65</td>\n",
       "      <td>1.53</td>\n",
       "      <td>2.56</td>\n",
       "      <td>2,401.99</td>\n",
       "    </tr>\n",
       "    <tr>\n",
       "      <th>1</th>\n",
       "      <td>Micronesia, Fed. Sts.</td>\n",
       "      <td>FSM</td>\n",
       "      <td>2?Chuuk</td>\n",
       "      <td>EAP</td>\n",
       "      <td>40,962.77</td>\n",
       "      <td>1,052.19</td>\n",
       "      <td>730.31</td>\n",
       "      <td>192.48</td>\n",
       "      <td>7.45</td>\n",
       "      <td>FSM_2013_GADM1_FSM_FSM.1_1</td>\n",
       "      <td>...</td>\n",
       "      <td>38,949.13</td>\n",
       "      <td>4.65</td>\n",
       "      <td>(POLYGON ((153.6361084 5.291110039999997, 153....</td>\n",
       "      <td>173.76</td>\n",
       "      <td>399.52</td>\n",
       "      <td>680.20</td>\n",
       "      <td>0.40</td>\n",
       "      <td>0.93</td>\n",
       "      <td>1.58</td>\n",
       "      <td>4,325.30</td>\n",
       "    </tr>\n",
       "  </tbody>\n",
       "</table>\n",
       "<p>2 rows × 28 columns</p>\n",
       "</div>"
      ],
      "text/plain": [
       "               ADM0_NAME ISO3   sample region           0-NoRiskPo  \\\n",
       "0  Micronesia, Fed. Sts.  FSM    1?Yap    EAP            10,097.06   \n",
       "1  Micronesia, Fed. Sts.  FSM  2?Chuuk    EAP            40,962.77   \n",
       "\n",
       "            1-LowRiskP           2-Moderate           3-HighRisk  \\\n",
       "0               455.07               201.92               110.27   \n",
       "1             1,052.19               730.31               192.48   \n",
       "\n",
       "            4-VeryHigh                   geo_code2  ...          npoor550_ln  \\\n",
       "0               128.47  FSM_2013_GADM1_FSM_FSM.4_1  ...             8,416.59   \n",
       "1                 7.45  FSM_2013_GADM1_FSM_FSM.1_1  ...            38,949.13   \n",
       "\n",
       "               mean_ln                                           geometry  \\\n",
       "0                 5.45  (POLYGON ((143.07833862 6.684165949999993, 143...   \n",
       "1                 4.65  (POLYGON ((153.6361084 5.291110039999997, 153....   \n",
       "\n",
       "            poorExp190           poorExp320           poorExp550  \\\n",
       "0                71.20               168.61               281.26   \n",
       "1               173.76               399.52               680.20   \n",
       "\n",
       "            poorPct190           poorPct320           poorPct550  \\\n",
       "0                 0.65                 1.53                 2.56   \n",
       "1                 0.40                 0.93                 1.58   \n",
       "\n",
       "                gdpExp  \n",
       "0             2,401.99  \n",
       "1             4,325.30  \n",
       "\n",
       "[2 rows x 28 columns]"
      ]
     },
     "execution_count": 32,
     "metadata": {},
     "output_type": "execute_result"
    }
   ],
   "source": [
    "df.head(2)"
   ]
  },
  {
   "cell_type": "code",
   "execution_count": 33,
   "metadata": {},
   "outputs": [
    {
     "data": {
      "text/plain": [
       "Index(['ADM0_NAME', 'ISO3', 'sample', 'region', '0-NoRiskPo', '1-LowRiskP',\n",
       "       '2-Moderate', '3-HighRisk', '4-VeryHigh', 'geo_code2', 'totalPop',\n",
       "       'fldExpHi', 'fldExpRel', 'poor190_ln', 'poor320_ln', 'poor550_ln',\n",
       "       'npoor190_ln', 'npoor320_ln', 'npoor550_ln', 'mean_ln', 'geometry',\n",
       "       'poorExp190', 'poorExp320', 'poorExp550', 'poorPct190', 'poorPct320',\n",
       "       'poorPct550', 'gdpExp'],\n",
       "      dtype='object')"
      ]
     },
     "execution_count": 33,
     "metadata": {},
     "output_type": "execute_result"
    }
   ],
   "source": [
    "df.columns"
   ]
  },
  {
   "cell_type": "markdown",
   "metadata": {},
   "source": [
    "## Export"
   ]
  },
  {
   "cell_type": "code",
   "execution_count": 35,
   "metadata": {},
   "outputs": [
    {
     "data": {
      "text/html": [
       "<div>\n",
       "<style scoped>\n",
       "    .dataframe tbody tr th:only-of-type {\n",
       "        vertical-align: middle;\n",
       "    }\n",
       "\n",
       "    .dataframe tbody tr th {\n",
       "        vertical-align: top;\n",
       "    }\n",
       "\n",
       "    .dataframe thead th {\n",
       "        text-align: right;\n",
       "    }\n",
       "</style>\n",
       "<table border=\"1\" class=\"dataframe\">\n",
       "  <thead>\n",
       "    <tr style=\"text-align: right;\">\n",
       "      <th></th>\n",
       "      <th>ADM0_NAME</th>\n",
       "      <th>ISO3</th>\n",
       "      <th>sample</th>\n",
       "      <th>region</th>\n",
       "      <th>0-NoRiskPo</th>\n",
       "      <th>1-LowRiskP</th>\n",
       "      <th>2-Moderate</th>\n",
       "      <th>3-HighRisk</th>\n",
       "      <th>4-VeryHigh</th>\n",
       "      <th>geo_code2</th>\n",
       "      <th>...</th>\n",
       "      <th>npoor550_ln</th>\n",
       "      <th>mean_ln</th>\n",
       "      <th>geometry</th>\n",
       "      <th>poorExp190</th>\n",
       "      <th>poorExp320</th>\n",
       "      <th>poorExp550</th>\n",
       "      <th>poorPct190</th>\n",
       "      <th>poorPct320</th>\n",
       "      <th>poorPct550</th>\n",
       "      <th>gdpExp</th>\n",
       "    </tr>\n",
       "  </thead>\n",
       "  <tbody>\n",
       "    <tr>\n",
       "      <th>0</th>\n",
       "      <td>Micronesia, Fed. Sts.</td>\n",
       "      <td>FSM</td>\n",
       "      <td>1?Yap</td>\n",
       "      <td>EAP</td>\n",
       "      <td>10,097.06</td>\n",
       "      <td>455.07</td>\n",
       "      <td>201.92</td>\n",
       "      <td>110.27</td>\n",
       "      <td>128.47</td>\n",
       "      <td>FSM_2013_GADM1_FSM_FSM.4_1</td>\n",
       "      <td>...</td>\n",
       "      <td>8,416.59</td>\n",
       "      <td>5.45</td>\n",
       "      <td>(POLYGON ((143.07833862 6.684165949999993, 143...</td>\n",
       "      <td>71.20</td>\n",
       "      <td>168.61</td>\n",
       "      <td>281.26</td>\n",
       "      <td>0.65</td>\n",
       "      <td>1.53</td>\n",
       "      <td>2.56</td>\n",
       "      <td>2,401.99</td>\n",
       "    </tr>\n",
       "    <tr>\n",
       "      <th>1</th>\n",
       "      <td>Micronesia, Fed. Sts.</td>\n",
       "      <td>FSM</td>\n",
       "      <td>2?Chuuk</td>\n",
       "      <td>EAP</td>\n",
       "      <td>40,962.77</td>\n",
       "      <td>1,052.19</td>\n",
       "      <td>730.31</td>\n",
       "      <td>192.48</td>\n",
       "      <td>7.45</td>\n",
       "      <td>FSM_2013_GADM1_FSM_FSM.1_1</td>\n",
       "      <td>...</td>\n",
       "      <td>38,949.13</td>\n",
       "      <td>4.65</td>\n",
       "      <td>(POLYGON ((153.6361084 5.291110039999997, 153....</td>\n",
       "      <td>173.76</td>\n",
       "      <td>399.52</td>\n",
       "      <td>680.20</td>\n",
       "      <td>0.40</td>\n",
       "      <td>0.93</td>\n",
       "      <td>1.58</td>\n",
       "      <td>4,325.30</td>\n",
       "    </tr>\n",
       "    <tr>\n",
       "      <th>2</th>\n",
       "      <td>Micronesia, Fed. Sts.</td>\n",
       "      <td>FSM</td>\n",
       "      <td>4?Kosrae</td>\n",
       "      <td>EAP</td>\n",
       "      <td>3,892.94</td>\n",
       "      <td>586.99</td>\n",
       "      <td>422.96</td>\n",
       "      <td>267.70</td>\n",
       "      <td>52.50</td>\n",
       "      <td>FSM_2013_GADM1_FSM_FSM.2_1</td>\n",
       "      <td>...</td>\n",
       "      <td>3,700.77</td>\n",
       "      <td>6.71</td>\n",
       "      <td>(POLYGON ((162.96694946 5.281112189999991, 162...</td>\n",
       "      <td>15.57</td>\n",
       "      <td>176.94</td>\n",
       "      <td>435.28</td>\n",
       "      <td>0.30</td>\n",
       "      <td>3.39</td>\n",
       "      <td>8.33</td>\n",
       "      <td>4,985.88</td>\n",
       "    </tr>\n",
       "    <tr>\n",
       "      <th>3</th>\n",
       "      <td>Australia</td>\n",
       "      <td>AUS</td>\n",
       "      <td>[1]New South Wales</td>\n",
       "      <td>EAP</td>\n",
       "      <td>5,977,505.53</td>\n",
       "      <td>371,567.37</td>\n",
       "      <td>234,034.41</td>\n",
       "      <td>142,902.78</td>\n",
       "      <td>54,951.34</td>\n",
       "      <td>AUS_2014_ADM1_470</td>\n",
       "      <td>...</td>\n",
       "      <td>48,468.18</td>\n",
       "      <td>62.08</td>\n",
       "      <td>(POLYGON ((151.172748 -33.847877, 151.173537 -...</td>\n",
       "      <td>2,451.40</td>\n",
       "      <td>2,909.20</td>\n",
       "      <td>2,909.20</td>\n",
       "      <td>0.04</td>\n",
       "      <td>0.04</td>\n",
       "      <td>0.04</td>\n",
       "      <td>26,810,262.66</td>\n",
       "    </tr>\n",
       "    <tr>\n",
       "      <th>4</th>\n",
       "      <td>Australia</td>\n",
       "      <td>AUS</td>\n",
       "      <td>[2]Victoria</td>\n",
       "      <td>EAP</td>\n",
       "      <td>4,540,820.91</td>\n",
       "      <td>398,824.10</td>\n",
       "      <td>220,802.38</td>\n",
       "      <td>122,674.11</td>\n",
       "      <td>39,151.14</td>\n",
       "      <td>AUS_2014_ADM1_476</td>\n",
       "      <td>...</td>\n",
       "      <td>43,110.04</td>\n",
       "      <td>58.85</td>\n",
       "      <td>(POLYGON ((146.33117676 -39.14710998000001, 14...</td>\n",
       "      <td>1,947.19</td>\n",
       "      <td>2,935.14</td>\n",
       "      <td>2,935.14</td>\n",
       "      <td>0.04</td>\n",
       "      <td>0.06</td>\n",
       "      <td>0.06</td>\n",
       "      <td>22,518,356.49</td>\n",
       "    </tr>\n",
       "  </tbody>\n",
       "</table>\n",
       "<p>5 rows × 28 columns</p>\n",
       "</div>"
      ],
      "text/plain": [
       "               ADM0_NAME ISO3              sample region           0-NoRiskPo  \\\n",
       "0  Micronesia, Fed. Sts.  FSM               1?Yap    EAP            10,097.06   \n",
       "1  Micronesia, Fed. Sts.  FSM             2?Chuuk    EAP            40,962.77   \n",
       "2  Micronesia, Fed. Sts.  FSM            4?Kosrae    EAP             3,892.94   \n",
       "3              Australia  AUS  [1]New South Wales    EAP         5,977,505.53   \n",
       "4              Australia  AUS         [2]Victoria    EAP         4,540,820.91   \n",
       "\n",
       "            1-LowRiskP           2-Moderate           3-HighRisk  \\\n",
       "0               455.07               201.92               110.27   \n",
       "1             1,052.19               730.31               192.48   \n",
       "2               586.99               422.96               267.70   \n",
       "3           371,567.37           234,034.41           142,902.78   \n",
       "4           398,824.10           220,802.38           122,674.11   \n",
       "\n",
       "            4-VeryHigh                   geo_code2  ...          npoor550_ln  \\\n",
       "0               128.47  FSM_2013_GADM1_FSM_FSM.4_1  ...             8,416.59   \n",
       "1                 7.45  FSM_2013_GADM1_FSM_FSM.1_1  ...            38,949.13   \n",
       "2                52.50  FSM_2013_GADM1_FSM_FSM.2_1  ...             3,700.77   \n",
       "3            54,951.34           AUS_2014_ADM1_470  ...            48,468.18   \n",
       "4            39,151.14           AUS_2014_ADM1_476  ...            43,110.04   \n",
       "\n",
       "               mean_ln                                           geometry  \\\n",
       "0                 5.45  (POLYGON ((143.07833862 6.684165949999993, 143...   \n",
       "1                 4.65  (POLYGON ((153.6361084 5.291110039999997, 153....   \n",
       "2                 6.71  (POLYGON ((162.96694946 5.281112189999991, 162...   \n",
       "3                62.08  (POLYGON ((151.172748 -33.847877, 151.173537 -...   \n",
       "4                58.85  (POLYGON ((146.33117676 -39.14710998000001, 14...   \n",
       "\n",
       "            poorExp190           poorExp320           poorExp550  \\\n",
       "0                71.20               168.61               281.26   \n",
       "1               173.76               399.52               680.20   \n",
       "2                15.57               176.94               435.28   \n",
       "3             2,451.40             2,909.20             2,909.20   \n",
       "4             1,947.19             2,935.14             2,935.14   \n",
       "\n",
       "            poorPct190           poorPct320           poorPct550  \\\n",
       "0                 0.65                 1.53                 2.56   \n",
       "1                 0.40                 0.93                 1.58   \n",
       "2                 0.30                 3.39                 8.33   \n",
       "3                 0.04                 0.04                 0.04   \n",
       "4                 0.04                 0.06                 0.06   \n",
       "\n",
       "                gdpExp  \n",
       "0             2,401.99  \n",
       "1             4,325.30  \n",
       "2             4,985.88  \n",
       "3        26,810,262.66  \n",
       "4        22,518,356.49  \n",
       "\n",
       "[5 rows x 28 columns]"
      ]
     },
     "execution_count": 35,
     "metadata": {},
     "output_type": "execute_result"
    }
   ],
   "source": [
    "df.head()"
   ]
  },
  {
   "cell_type": "code",
   "execution_count": 36,
   "metadata": {
    "collapsed": true,
    "scrolled": true
   },
   "outputs": [],
   "source": [
    "# Saving to shp to file for analysis\n",
    "df.to_file(path / 'Analysis' / \"new_pov_results_10042021.shp\");"
   ]
  },
  {
   "cell_type": "markdown",
   "metadata": {},
   "source": [
    "## Merge with full adm shp and export"
   ]
  },
  {
   "cell_type": "code",
   "execution_count": 39,
   "metadata": {
    "collapsed": true
   },
   "outputs": [],
   "source": [
    "# removed cols already in df\n",
    "poverty_to_merge = povertyAll[['code', 'baseyear', 'lineupyear', 'survname', 'welfaretype',\n",
    "       'level', 'geo_code2',\n",
    "       'poor_ln_b40', 'poor_ln_d1', 'poor_ln_d2', 'poor_ln_d3', 'poor_ln_d4',\n",
    "       'poor_ln_d5', 'poor_ln_d6', 'poor_ln_d7', 'poor_ln_d8', 'poor_ln_d9',\n",
    "       'poor_ln_d10', 'nohh_ln', 'totalhh_ln',\n",
    "       'sh_hh_ln', 'sh_pop_ln', 'd_ln1', 'd_ln2', 'd_ln3', 'd_ln4', 'd_ln5',\n",
    "       'd_ln6', 'd_ln7', 'd_ln8', 'd_ln9', 'd_ln10', 'sh_d_ln1', 'sh_d_ln2',\n",
    "       'sh_d_ln3', 'sh_d_ln4', 'sh_d_ln5', 'sh_d_ln6', 'sh_d_ln7', 'sh_d_ln8',\n",
    "       'sh_d_ln9', 'sh_d_ln10', 'total_d_ln1', 'total_d_ln2', 'total_d_ln3',\n",
    "       'total_d_ln4', 'total_d_ln5', 'total_d_ln6', 'total_d_ln7',\n",
    "       'total_d_ln8', 'total_d_ln9', 'total_d_ln10', 'median_ln', 'mean_ln',\n",
    "       'giniln', 'theilln', 'b40_ln', 't60_ln', 'totalb40_ln', 'totalt60_ln',\n",
    "       'sh_b40_ln', 'sh_t60_ln']]"
   ]
  },
  {
   "cell_type": "code",
   "execution_count": 78,
   "metadata": {
    "collapsed": true
   },
   "outputs": [],
   "source": [
    "df_full = df.merge(poverty_to_merge, on = 'geo_code2', how = 'outer')"
   ]
  },
  {
   "cell_type": "code",
   "execution_count": 79,
   "metadata": {
    "collapsed": true
   },
   "outputs": [],
   "source": [
    "# Reordering cols\n",
    "df_full = df_full[['ADM0_NAME', 'ISO3', 'sample', 'region', '0-NoRiskPo', '1-LowRiskP',\n",
    "       '2-Moderate', '3-HighRisk', '4-VeryHigh', 'geo_code2',\n",
    "       'totalPop', 'fldExpHi', 'fldExpRel', 'poorExp190', 'poorExp320',\n",
    "       'poorExp550', 'poorPct190', 'poorPct320', 'poorPct550', 'poor190_ln',\n",
    "       'poor320_ln', 'poor550_ln', 'npoor190_ln', 'npoor320_ln', 'npoor550_ln',\n",
    "       'noind_ln', 'totalind_ln', 'code', 'baseyear',\n",
    "       'lineupyear', 'survname', 'welfaretype', 'level',\n",
    "       'poor_ln_b40', 'poor_ln_d1', 'poor_ln_d2', 'poor_ln_d3', 'poor_ln_d4',\n",
    "       'poor_ln_d5', 'poor_ln_d6', 'poor_ln_d7', 'poor_ln_d8', 'poor_ln_d9',\n",
    "       'poor_ln_d10', 'nohh_ln', 'totalhh_ln', 'sh_hh_ln', 'sh_pop_ln',\n",
    "       'd_ln1', 'd_ln2', 'd_ln3', 'd_ln4', 'd_ln5', 'd_ln6', 'd_ln7', 'd_ln8',\n",
    "       'd_ln9', 'd_ln10', 'sh_d_ln1', 'sh_d_ln2', 'sh_d_ln3', 'sh_d_ln4',\n",
    "       'sh_d_ln5', 'sh_d_ln6', 'sh_d_ln7', 'sh_d_ln8', 'sh_d_ln9', 'sh_d_ln10',\n",
    "       'total_d_ln1', 'total_d_ln2', 'total_d_ln3', 'total_d_ln4',\n",
    "       'total_d_ln5', 'total_d_ln6', 'total_d_ln7', 'total_d_ln8',\n",
    "       'total_d_ln9', 'total_d_ln10', 'median_ln', 'mean_ln', 'giniln',\n",
    "       'theilln', 'b40_ln', 't60_ln', 'totalb40_ln', 'totalt60_ln',\n",
    "       'sh_b40_ln', 'sh_t60_ln','geometry']]"
   ]
  },
  {
   "cell_type": "code",
   "execution_count": 82,
   "metadata": {
    "collapsed": true
   },
   "outputs": [],
   "source": [
    "# Saving to shp to file for analysis\n",
    "df_full.to_file(path / 'Analysis' / \"new_pov_results_merged.shp\");"
   ]
  },
  {
   "cell_type": "code",
   "execution_count": 98,
   "metadata": {
    "collapsed": true
   },
   "outputs": [],
   "source": [
    "# Saving as a shapefile truncates the col names \n",
    "# Converting from a geodf to a normal df to allow export\n",
    "#df_nongeo = pd.DataFrame(df_full)"
   ]
  },
  {
   "cell_type": "code",
   "execution_count": 99,
   "metadata": {
    "collapsed": true
   },
   "outputs": [],
   "source": [
    "# this created a huge incorrectly formatted file (300mb)\n",
    "#df_nongeo.to_csv(path / 'Analysis' / \"results_merged_adm.csv\") "
   ]
  },
  {
   "cell_type": "code",
   "execution_count": 100,
   "metadata": {
    "collapsed": true
   },
   "outputs": [],
   "source": [
    "# del df_ nongeo\n",
    "del df_full"
   ]
  },
  {
   "cell_type": "markdown",
   "metadata": {},
   "source": [
    "## Prepping country level data \n",
    "- dissolving to adm0 level\n",
    "- have to re-add the columns with percentages "
   ]
  },
  {
   "cell_type": "code",
   "execution_count": 40,
   "metadata": {
    "collapsed": true,
    "scrolled": true
   },
   "outputs": [],
   "source": [
    "countries = df[['ADM0_NAME', 'ISO3', '0-NoRiskPo', '1-LowRiskP',\n",
    "       '2-Moderate', '3-HighRisk', '4-VeryHigh', 'geo_code2', 'totalPop',\n",
    "       'fldExpHi',  \n",
    "       'npoor190_ln', 'npoor320_ln', 'npoor550_ln', 'mean_ln', 'geometry',\n",
    "       'poorExp190', 'poorExp320', 'poorExp550', 'gdpExp']]\n",
    "# not including pcts because it doesn't aggregate well"
   ]
  },
  {
   "cell_type": "code",
   "execution_count": 41,
   "metadata": {
    "collapsed": true
   },
   "outputs": [],
   "source": [
    "# This can take a long time \n",
    "countries = countries.dissolve(by='ADM0_NAME', aggfunc='sum')"
   ]
  },
  {
   "cell_type": "code",
   "execution_count": 42,
   "metadata": {
    "collapsed": true
   },
   "outputs": [],
   "source": [
    "# Adding Pct >15cm of total pop\n",
    "countries.loc[:,'fldExpRel'] = (countries.loc[:,'fldExpHi'] / \n",
    "                                    countries.loc[:,'totalPop']) * 100"
   ]
  },
  {
   "cell_type": "code",
   "execution_count": 68,
   "metadata": {},
   "outputs": [
    {
     "data": {
      "text/html": [
       "<div>\n",
       "<style scoped>\n",
       "    .dataframe tbody tr th:only-of-type {\n",
       "        vertical-align: middle;\n",
       "    }\n",
       "\n",
       "    .dataframe tbody tr th {\n",
       "        vertical-align: top;\n",
       "    }\n",
       "\n",
       "    .dataframe thead th {\n",
       "        text-align: right;\n",
       "    }\n",
       "</style>\n",
       "<table border=\"1\" class=\"dataframe\">\n",
       "  <thead>\n",
       "    <tr style=\"text-align: right;\">\n",
       "      <th></th>\n",
       "      <th>geometry</th>\n",
       "      <th>0-NoRiskPo</th>\n",
       "      <th>1-LowRiskP</th>\n",
       "      <th>2-Moderate</th>\n",
       "      <th>3-HighRisk</th>\n",
       "      <th>4-VeryHigh</th>\n",
       "      <th>totalPop</th>\n",
       "      <th>fldExpHi</th>\n",
       "      <th>npoor190_ln</th>\n",
       "      <th>npoor320_ln</th>\n",
       "      <th>npoor550_ln</th>\n",
       "      <th>mean_ln</th>\n",
       "      <th>poorExp190</th>\n",
       "      <th>poorExp320</th>\n",
       "      <th>poorExp550</th>\n",
       "      <th>gdpExp</th>\n",
       "      <th>fldExpRel</th>\n",
       "      <th>poorPct190</th>\n",
       "      <th>poorPct320</th>\n",
       "      <th>poorPct550</th>\n",
       "    </tr>\n",
       "    <tr>\n",
       "      <th>ADM0_NAME</th>\n",
       "      <th></th>\n",
       "      <th></th>\n",
       "      <th></th>\n",
       "      <th></th>\n",
       "      <th></th>\n",
       "      <th></th>\n",
       "      <th></th>\n",
       "      <th></th>\n",
       "      <th></th>\n",
       "      <th></th>\n",
       "      <th></th>\n",
       "      <th></th>\n",
       "      <th></th>\n",
       "      <th></th>\n",
       "      <th></th>\n",
       "      <th></th>\n",
       "      <th></th>\n",
       "      <th></th>\n",
       "      <th></th>\n",
       "      <th></th>\n",
       "    </tr>\n",
       "  </thead>\n",
       "  <tbody>\n",
       "    <tr>\n",
       "      <th>Afghanistan</th>\n",
       "      <td>POLYGON ((71.02527542392174 34.55837377942642,...</td>\n",
       "      <td>20,729,301.66</td>\n",
       "      <td>5,065,939.48</td>\n",
       "      <td>2,616,966.83</td>\n",
       "      <td>1,236,505.85</td>\n",
       "      <td>647,603.87</td>\n",
       "      <td>30,296,317.67</td>\n",
       "      <td>4,501,076.54</td>\n",
       "      <td>0.00</td>\n",
       "      <td>0.00</td>\n",
       "      <td>0.00</td>\n",
       "      <td>0.00</td>\n",
       "      <td>0.00</td>\n",
       "      <td>0.00</td>\n",
       "      <td>0.00</td>\n",
       "      <td>0.00</td>\n",
       "      <td>14.86</td>\n",
       "      <td>0.00</td>\n",
       "      <td>0.00</td>\n",
       "      <td>0.00</td>\n",
       "    </tr>\n",
       "    <tr>\n",
       "      <th>Albania</th>\n",
       "      <td>(POLYGON ((19.2769680001731 40.51499099983483,...</td>\n",
       "      <td>1,594,778.57</td>\n",
       "      <td>431,977.53</td>\n",
       "      <td>327,700.54</td>\n",
       "      <td>253,289.58</td>\n",
       "      <td>189,002.46</td>\n",
       "      <td>2,796,748.67</td>\n",
       "      <td>769,992.57</td>\n",
       "      <td>31,360.33</td>\n",
       "      <td>203,188.68</td>\n",
       "      <td>894,455.25</td>\n",
       "      <td>99.67</td>\n",
       "      <td>7,976.02</td>\n",
       "      <td>50,434.86</td>\n",
       "      <td>240,188.81</td>\n",
       "      <td>6,917,044.40</td>\n",
       "      <td>27.53</td>\n",
       "      <td>0.29</td>\n",
       "      <td>1.80</td>\n",
       "      <td>8.59</td>\n",
       "    </tr>\n",
       "    <tr>\n",
       "      <th>Algeria</th>\n",
       "      <td>(POLYGON ((-1.913019299700863 35.0882247997347...</td>\n",
       "      <td>33,759,208.60</td>\n",
       "      <td>5,450,192.60</td>\n",
       "      <td>2,918,637.10</td>\n",
       "      <td>1,448,055.10</td>\n",
       "      <td>508,003.76</td>\n",
       "      <td>44,084,097.14</td>\n",
       "      <td>4,874,695.95</td>\n",
       "      <td>136,284.66</td>\n",
       "      <td>949,588.00</td>\n",
       "      <td>8,847,020.00</td>\n",
       "      <td>9.17</td>\n",
       "      <td>15,731.62</td>\n",
       "      <td>109,612.90</td>\n",
       "      <td>1,021,229.77</td>\n",
       "      <td>44,695,234.81</td>\n",
       "      <td>11.06</td>\n",
       "      <td>0.04</td>\n",
       "      <td>0.25</td>\n",
       "      <td>2.32</td>\n",
       "    </tr>\n",
       "  </tbody>\n",
       "</table>\n",
       "</div>"
      ],
      "text/plain": [
       "                                                      geometry  \\\n",
       "ADM0_NAME                                                        \n",
       "Afghanistan  POLYGON ((71.02527542392174 34.55837377942642,...   \n",
       "Albania      (POLYGON ((19.2769680001731 40.51499099983483,...   \n",
       "Algeria      (POLYGON ((-1.913019299700863 35.0882247997347...   \n",
       "\n",
       "                      0-NoRiskPo           1-LowRiskP           2-Moderate  \\\n",
       "ADM0_NAME                                                                    \n",
       "Afghanistan        20,729,301.66         5,065,939.48         2,616,966.83   \n",
       "Albania             1,594,778.57           431,977.53           327,700.54   \n",
       "Algeria            33,759,208.60         5,450,192.60         2,918,637.10   \n",
       "\n",
       "                      3-HighRisk           4-VeryHigh             totalPop  \\\n",
       "ADM0_NAME                                                                    \n",
       "Afghanistan         1,236,505.85           647,603.87        30,296,317.67   \n",
       "Albania               253,289.58           189,002.46         2,796,748.67   \n",
       "Algeria             1,448,055.10           508,003.76        44,084,097.14   \n",
       "\n",
       "                        fldExpHi          npoor190_ln          npoor320_ln  \\\n",
       "ADM0_NAME                                                                    \n",
       "Afghanistan         4,501,076.54                 0.00                 0.00   \n",
       "Albania               769,992.57            31,360.33           203,188.68   \n",
       "Algeria             4,874,695.95           136,284.66           949,588.00   \n",
       "\n",
       "                     npoor550_ln              mean_ln           poorExp190  \\\n",
       "ADM0_NAME                                                                    \n",
       "Afghanistan                 0.00                 0.00                 0.00   \n",
       "Albania               894,455.25                99.67             7,976.02   \n",
       "Algeria             8,847,020.00                 9.17            15,731.62   \n",
       "\n",
       "                      poorExp320           poorExp550               gdpExp  \\\n",
       "ADM0_NAME                                                                    \n",
       "Afghanistan                 0.00                 0.00                 0.00   \n",
       "Albania                50,434.86           240,188.81         6,917,044.40   \n",
       "Algeria               109,612.90         1,021,229.77        44,695,234.81   \n",
       "\n",
       "                       fldExpRel           poorPct190           poorPct320  \\\n",
       "ADM0_NAME                                                                    \n",
       "Afghanistan                14.86                 0.00                 0.00   \n",
       "Albania                    27.53                 0.29                 1.80   \n",
       "Algeria                    11.06                 0.04                 0.25   \n",
       "\n",
       "                      poorPct550  \n",
       "ADM0_NAME                         \n",
       "Afghanistan                 0.00  \n",
       "Albania                     8.59  \n",
       "Algeria                     2.32  "
      ]
     },
     "execution_count": 68,
     "metadata": {},
     "output_type": "execute_result"
    }
   ],
   "source": [
    "countries.head(3)"
   ]
  },
  {
   "cell_type": "code",
   "execution_count": 44,
   "metadata": {
    "collapsed": true,
    "scrolled": true
   },
   "outputs": [],
   "source": [
    "# Adding column on the pct of people exposed to >15cm flood and are poor\n",
    "countries.loc[:,'poorPct190'] = (countries.loc[:,'poorExp190'] / countries.loc[:,'totalPop'])*100\n",
    "countries.loc[:,'poorPct320'] = (countries.loc[:,'poorExp320'] / countries.loc[:,'totalPop'])*100\n",
    "countries.loc[:,'poorPct550'] = (countries.loc[:,'poorExp550'] / countries.loc[:,'totalPop'])*100"
   ]
  },
  {
   "cell_type": "code",
   "execution_count": 45,
   "metadata": {
    "collapsed": true
   },
   "outputs": [],
   "source": [
    "countries['ADM0'] = countries.index"
   ]
  },
  {
   "cell_type": "code",
   "execution_count": 46,
   "metadata": {
    "collapsed": true
   },
   "outputs": [],
   "source": [
    "# Saving file \n",
    "countries.to_file(path / 'Analysis' / \"aggCountries_10042021.shp\");"
   ]
  },
  {
   "cell_type": "markdown",
   "metadata": {},
   "source": [
    "<a id='QA'></a>\n",
    "# Validation\n",
    "\n",
    "[Back to TOC](#TOC)"
   ]
  },
  {
   "cell_type": "markdown",
   "metadata": {},
   "source": [
    "## Comparing total pops against WDI pop data"
   ]
  },
  {
   "cell_type": "code",
   "execution_count": 123,
   "metadata": {
    "collapsed": true,
    "scrolled": true
   },
   "outputs": [],
   "source": [
    "WDI_pop = pd.read_csv(path / 'API_SP.POP.TOTL_DS2_en_csv_v2_1976634.csv', sep=';', encoding = \"ISO-8859-1\")\n",
    "WDI_pop = WDI_pop[['Country Name','Country Code','2015','2016','2017','2018']]\n",
    "WDI_pop = WDI_pop.set_index('Country Name');"
   ]
  },
  {
   "cell_type": "code",
   "execution_count": 124,
   "metadata": {
    "collapsed": true
   },
   "outputs": [],
   "source": [
    "countries.index = countries.ADM0"
   ]
  },
  {
   "cell_type": "code",
   "execution_count": 125,
   "metadata": {
    "collapsed": true
   },
   "outputs": [],
   "source": [
    "# join with countries df\n",
    "WDI_pop = WDI_pop.merge(countries[['totalPop']], left_index=True, right_index=True)"
   ]
  },
  {
   "cell_type": "code",
   "execution_count": 130,
   "metadata": {
    "collapsed": true
   },
   "outputs": [],
   "source": [
    "# Add column comparing 2018 WDI pop data with World Pop data\n",
    "WDI_pop['pop_check'] = (WDI_pop['totalPop'] / WDI_pop['2018'])\n",
    "WDI_pop.dropna(subset=['pop_check'], inplace=True)"
   ]
  },
  {
   "cell_type": "code",
   "execution_count": 131,
   "metadata": {},
   "outputs": [
    {
     "data": {
      "text/plain": [
       "<matplotlib.axes._subplots.AxesSubplot at 0x1c84299c438>"
      ]
     },
     "execution_count": 131,
     "metadata": {},
     "output_type": "execute_result"
    },
    {
     "data": {
      "image/png": "[encoded data removed]",
      "text/plain": [
       "<Figure size 432x288 with 1 Axes>"
      ]
     },
     "metadata": {
      "needs_background": "light"
     },
     "output_type": "display_data"
    }
   ],
   "source": [
    "sns.distplot(WDI_pop.pop_check)"
   ]
  },
  {
   "cell_type": "code",
   "execution_count": 117,
   "metadata": {},
   "outputs": [
    {
     "data": {
      "text/plain": [
       "<matplotlib.axes._subplots.AxesSubplot at 0x13355ac40>"
      ]
     },
     "execution_count": 117,
     "metadata": {},
     "output_type": "execute_result"
    },
    {
     "data": {
      "image/png": "[encoded data removed]",
      "text/plain": [
       "<Figure size 432x288 with 1 Axes>"
      ]
     },
     "metadata": {
      "needs_background": "light"
     },
     "output_type": "display_data"
    }
   ],
   "source": [
    "#OLD DATA - DO NOT DELETE\n",
    "sns.distplot(WDI_pop.pop_check)"
   ]
  },
  {
   "cell_type": "code",
   "execution_count": 132,
   "metadata": {},
   "outputs": [
    {
     "name": "stdout",
     "output_type": "stream",
     "text": [
      "50 countries with a pop difference greater than 10% \n"
     ]
    }
   ],
   "source": [
    "print(WDI_pop[(WDI_pop.pop_check < 0.9) | (WDI_pop.pop_check > 1.1)].shape[0], \n",
    "      'countries with a pop difference greater than 10% ')"
   ]
  },
  {
   "cell_type": "code",
   "execution_count": 133,
   "metadata": {},
   "outputs": [
    {
     "name": "stdout",
     "output_type": "stream",
     "text": [
      "21 countries with a pop difference greater than 20% \n"
     ]
    }
   ],
   "source": [
    "print(WDI_pop[(WDI_pop.pop_check < 0.8) | (WDI_pop.pop_check > 1.2)].shape[0], \n",
    "      'countries with a pop difference greater than 20% ')"
   ]
  },
  {
   "cell_type": "code",
   "execution_count": 134,
   "metadata": {},
   "outputs": [
    {
     "name": "stdout",
     "output_type": "stream",
     "text": [
      "174 countries with a pop difference less than 20% \n"
     ]
    }
   ],
   "source": [
    "print(WDI_pop[(WDI_pop.pop_check >= 0.8) | (WDI_pop.pop_check <= 1.2)].shape[0], \n",
    "      'countries with a pop difference less than 20% ')"
   ]
  },
  {
   "cell_type": "code",
   "execution_count": 135,
   "metadata": {},
   "outputs": [
    {
     "data": {
      "text/html": [
       "<div>\n",
       "<style scoped>\n",
       "    .dataframe tbody tr th:only-of-type {\n",
       "        vertical-align: middle;\n",
       "    }\n",
       "\n",
       "    .dataframe tbody tr th {\n",
       "        vertical-align: top;\n",
       "    }\n",
       "\n",
       "    .dataframe thead th {\n",
       "        text-align: right;\n",
       "    }\n",
       "</style>\n",
       "<table border=\"1\" class=\"dataframe\">\n",
       "  <thead>\n",
       "    <tr style=\"text-align: right;\">\n",
       "      <th></th>\n",
       "      <th>Country Code</th>\n",
       "      <th>2015</th>\n",
       "      <th>2016</th>\n",
       "      <th>2017</th>\n",
       "      <th>2018</th>\n",
       "      <th>totalPop</th>\n",
       "      <th>pop_check</th>\n",
       "    </tr>\n",
       "  </thead>\n",
       "  <tbody>\n",
       "    <tr>\n",
       "      <th>Andorra</th>\n",
       "      <td>AND</td>\n",
       "      <td>78,011.00</td>\n",
       "      <td>77,297.00</td>\n",
       "      <td>77,001.00</td>\n",
       "      <td>77,006.00</td>\n",
       "      <td>113,078.73</td>\n",
       "      <td>1.47</td>\n",
       "    </tr>\n",
       "    <tr>\n",
       "      <th>Cambodia</th>\n",
       "      <td>KHM</td>\n",
       "      <td>15,521,436.00</td>\n",
       "      <td>15,766,293.00</td>\n",
       "      <td>16,009,414.00</td>\n",
       "      <td>16,249,798.00</td>\n",
       "      <td>19,522,729.68</td>\n",
       "      <td>1.20</td>\n",
       "    </tr>\n",
       "    <tr>\n",
       "      <th>Colombia</th>\n",
       "      <td>COL</td>\n",
       "      <td>47,520,667.00</td>\n",
       "      <td>48,175,048.00</td>\n",
       "      <td>48,909,844.00</td>\n",
       "      <td>49,661,056.00</td>\n",
       "      <td>63,257,306.40</td>\n",
       "      <td>1.27</td>\n",
       "    </tr>\n",
       "    <tr>\n",
       "      <th>Djibouti</th>\n",
       "      <td>DJI</td>\n",
       "      <td>913,993.00</td>\n",
       "      <td>929,112.00</td>\n",
       "      <td>944,097.00</td>\n",
       "      <td>958,920.00</td>\n",
       "      <td>1,152,545.63</td>\n",
       "      <td>1.20</td>\n",
       "    </tr>\n",
       "    <tr>\n",
       "      <th>Fiji</th>\n",
       "      <td>FJI</td>\n",
       "      <td>868,627.00</td>\n",
       "      <td>872,399.00</td>\n",
       "      <td>877,459.00</td>\n",
       "      <td>883,483.00</td>\n",
       "      <td>699,249.93</td>\n",
       "      <td>0.79</td>\n",
       "    </tr>\n",
       "    <tr>\n",
       "      <th>Gabon</th>\n",
       "      <td>GAB</td>\n",
       "      <td>1,947,686.00</td>\n",
       "      <td>2,007,873.00</td>\n",
       "      <td>2,064,823.00</td>\n",
       "      <td>2,119,275.00</td>\n",
       "      <td>2,971,743.36</td>\n",
       "      <td>1.40</td>\n",
       "    </tr>\n",
       "    <tr>\n",
       "      <th>Haiti</th>\n",
       "      <td>HTI</td>\n",
       "      <td>10,695,542.00</td>\n",
       "      <td>10,839,970.00</td>\n",
       "      <td>10,982,366.00</td>\n",
       "      <td>11,123,176.00</td>\n",
       "      <td>14,625,015.38</td>\n",
       "      <td>1.31</td>\n",
       "    </tr>\n",
       "    <tr>\n",
       "      <th>Jordan</th>\n",
       "      <td>JOR</td>\n",
       "      <td>9,266,575.00</td>\n",
       "      <td>9,551,467.00</td>\n",
       "      <td>9,779,173.00</td>\n",
       "      <td>9,956,011.00</td>\n",
       "      <td>7,138,388.04</td>\n",
       "      <td>0.72</td>\n",
       "    </tr>\n",
       "    <tr>\n",
       "      <th>Latvia</th>\n",
       "      <td>LVA</td>\n",
       "      <td>1,977,527.00</td>\n",
       "      <td>1,959,537.00</td>\n",
       "      <td>1,942,248.00</td>\n",
       "      <td>1,927,174.00</td>\n",
       "      <td>2,456,387.45</td>\n",
       "      <td>1.27</td>\n",
       "    </tr>\n",
       "    <tr>\n",
       "      <th>Lebanon</th>\n",
       "      <td>LBN</td>\n",
       "      <td>6,532,678.00</td>\n",
       "      <td>6,711,121.00</td>\n",
       "      <td>6,811,873.00</td>\n",
       "      <td>6,848,925.00</td>\n",
       "      <td>9,336,980.35</td>\n",
       "      <td>1.36</td>\n",
       "    </tr>\n",
       "    <tr>\n",
       "      <th>Mali</th>\n",
       "      <td>MLI</td>\n",
       "      <td>17,438,778.00</td>\n",
       "      <td>17,965,429.00</td>\n",
       "      <td>18,512,394.00</td>\n",
       "      <td>19,077,690.00</td>\n",
       "      <td>23,243,392.72</td>\n",
       "      <td>1.22</td>\n",
       "    </tr>\n",
       "    <tr>\n",
       "      <th>Moldova</th>\n",
       "      <td>MDA</td>\n",
       "      <td>2,834,530.00</td>\n",
       "      <td>2,802,170.00</td>\n",
       "      <td>2,755,158.00</td>\n",
       "      <td>2,706,049.00</td>\n",
       "      <td>3,673,378.79</td>\n",
       "      <td>1.36</td>\n",
       "    </tr>\n",
       "    <tr>\n",
       "      <th>Monaco</th>\n",
       "      <td>MCO</td>\n",
       "      <td>37,718.00</td>\n",
       "      <td>38,070.00</td>\n",
       "      <td>38,392.00</td>\n",
       "      <td>38,682.00</td>\n",
       "      <td>0.00</td>\n",
       "      <td>0.00</td>\n",
       "    </tr>\n",
       "    <tr>\n",
       "      <th>Nepal</th>\n",
       "      <td>NPL</td>\n",
       "      <td>27,015,031.00</td>\n",
       "      <td>27,261,131.00</td>\n",
       "      <td>27,627,124.00</td>\n",
       "      <td>28,087,871.00</td>\n",
       "      <td>40,735,393.02</td>\n",
       "      <td>1.45</td>\n",
       "    </tr>\n",
       "    <tr>\n",
       "      <th>Oman</th>\n",
       "      <td>OMN</td>\n",
       "      <td>4,267,348.00</td>\n",
       "      <td>4,479,219.00</td>\n",
       "      <td>4,665,935.00</td>\n",
       "      <td>4,829,483.00</td>\n",
       "      <td>3,587,356.96</td>\n",
       "      <td>0.74</td>\n",
       "    </tr>\n",
       "    <tr>\n",
       "      <th>Palau</th>\n",
       "      <td>PLW</td>\n",
       "      <td>17,665.00</td>\n",
       "      <td>17,725.00</td>\n",
       "      <td>17,808.00</td>\n",
       "      <td>17,907.00</td>\n",
       "      <td>24,723.10</td>\n",
       "      <td>1.38</td>\n",
       "    </tr>\n",
       "    <tr>\n",
       "      <th>Romania</th>\n",
       "      <td>ROU</td>\n",
       "      <td>19,815,616.00</td>\n",
       "      <td>19,702,267.00</td>\n",
       "      <td>19,587,290.00</td>\n",
       "      <td>19,472,545.00</td>\n",
       "      <td>33,821,913.07</td>\n",
       "      <td>1.74</td>\n",
       "    </tr>\n",
       "    <tr>\n",
       "      <th>Singapore</th>\n",
       "      <td>SGP</td>\n",
       "      <td>5,535,002.00</td>\n",
       "      <td>5,607,283.00</td>\n",
       "      <td>5,612,253.00</td>\n",
       "      <td>5,638,676.00</td>\n",
       "      <td>4,438,516.28</td>\n",
       "      <td>0.79</td>\n",
       "    </tr>\n",
       "    <tr>\n",
       "      <th>Somalia</th>\n",
       "      <td>SOM</td>\n",
       "      <td>13,797,201.00</td>\n",
       "      <td>14,185,613.00</td>\n",
       "      <td>14,589,119.00</td>\n",
       "      <td>15,008,154.00</td>\n",
       "      <td>11,002,463.66</td>\n",
       "      <td>0.73</td>\n",
       "    </tr>\n",
       "    <tr>\n",
       "      <th>South Sudan</th>\n",
       "      <td>SSD</td>\n",
       "      <td>10,715,658.00</td>\n",
       "      <td>10,832,512.00</td>\n",
       "      <td>10,910,759.00</td>\n",
       "      <td>10,975,920.00</td>\n",
       "      <td>16,743,069.93</td>\n",
       "      <td>1.53</td>\n",
       "    </tr>\n",
       "    <tr>\n",
       "      <th>Turkmenistan</th>\n",
       "      <td>TKM</td>\n",
       "      <td>5,565,287.00</td>\n",
       "      <td>5,662,372.00</td>\n",
       "      <td>5,757,669.00</td>\n",
       "      <td>5,850,908.00</td>\n",
       "      <td>9,850,372.68</td>\n",
       "      <td>1.68</td>\n",
       "    </tr>\n",
       "  </tbody>\n",
       "</table>\n",
       "</div>"
      ],
      "text/plain": [
       "             Country Code                 2015                 2016  \\\n",
       "Andorra               AND            78,011.00            77,297.00   \n",
       "Cambodia              KHM        15,521,436.00        15,766,293.00   \n",
       "Colombia              COL        47,520,667.00        48,175,048.00   \n",
       "Djibouti              DJI           913,993.00           929,112.00   \n",
       "Fiji                  FJI           868,627.00           872,399.00   \n",
       "Gabon                 GAB         1,947,686.00         2,007,873.00   \n",
       "Haiti                 HTI        10,695,542.00        10,839,970.00   \n",
       "Jordan                JOR         9,266,575.00         9,551,467.00   \n",
       "Latvia                LVA         1,977,527.00         1,959,537.00   \n",
       "Lebanon               LBN         6,532,678.00         6,711,121.00   \n",
       "Mali                  MLI        17,438,778.00        17,965,429.00   \n",
       "Moldova               MDA         2,834,530.00         2,802,170.00   \n",
       "Monaco                MCO            37,718.00            38,070.00   \n",
       "Nepal                 NPL        27,015,031.00        27,261,131.00   \n",
       "Oman                  OMN         4,267,348.00         4,479,219.00   \n",
       "Palau                 PLW            17,665.00            17,725.00   \n",
       "Romania               ROU        19,815,616.00        19,702,267.00   \n",
       "Singapore             SGP         5,535,002.00         5,607,283.00   \n",
       "Somalia               SOM        13,797,201.00        14,185,613.00   \n",
       "South Sudan           SSD        10,715,658.00        10,832,512.00   \n",
       "Turkmenistan          TKM         5,565,287.00         5,662,372.00   \n",
       "\n",
       "                             2017                 2018             totalPop  \\\n",
       "Andorra                 77,001.00            77,006.00           113,078.73   \n",
       "Cambodia            16,009,414.00        16,249,798.00        19,522,729.68   \n",
       "Colombia            48,909,844.00        49,661,056.00        63,257,306.40   \n",
       "Djibouti               944,097.00           958,920.00         1,152,545.63   \n",
       "Fiji                   877,459.00           883,483.00           699,249.93   \n",
       "Gabon                2,064,823.00         2,119,275.00         2,971,743.36   \n",
       "Haiti               10,982,366.00        11,123,176.00        14,625,015.38   \n",
       "Jordan               9,779,173.00         9,956,011.00         7,138,388.04   \n",
       "Latvia               1,942,248.00         1,927,174.00         2,456,387.45   \n",
       "Lebanon              6,811,873.00         6,848,925.00         9,336,980.35   \n",
       "Mali                18,512,394.00        19,077,690.00        23,243,392.72   \n",
       "Moldova              2,755,158.00         2,706,049.00         3,673,378.79   \n",
       "Monaco                  38,392.00            38,682.00                 0.00   \n",
       "Nepal               27,627,124.00        28,087,871.00        40,735,393.02   \n",
       "Oman                 4,665,935.00         4,829,483.00         3,587,356.96   \n",
       "Palau                   17,808.00            17,907.00            24,723.10   \n",
       "Romania             19,587,290.00        19,472,545.00        33,821,913.07   \n",
       "Singapore            5,612,253.00         5,638,676.00         4,438,516.28   \n",
       "Somalia             14,589,119.00        15,008,154.00        11,002,463.66   \n",
       "South Sudan         10,910,759.00        10,975,920.00        16,743,069.93   \n",
       "Turkmenistan         5,757,669.00         5,850,908.00         9,850,372.68   \n",
       "\n",
       "                        pop_check  \n",
       "Andorra                      1.47  \n",
       "Cambodia                     1.20  \n",
       "Colombia                     1.27  \n",
       "Djibouti                     1.20  \n",
       "Fiji                         0.79  \n",
       "Gabon                        1.40  \n",
       "Haiti                        1.31  \n",
       "Jordan                       0.72  \n",
       "Latvia                       1.27  \n",
       "Lebanon                      1.36  \n",
       "Mali                         1.22  \n",
       "Moldova                      1.36  \n",
       "Monaco                       0.00  \n",
       "Nepal                        1.45  \n",
       "Oman                         0.74  \n",
       "Palau                        1.38  \n",
       "Romania                      1.74  \n",
       "Singapore                    0.79  \n",
       "Somalia                      0.73  \n",
       "South Sudan                  1.53  \n",
       "Turkmenistan                 1.68  "
      ]
     },
     "execution_count": 135,
     "metadata": {},
     "output_type": "execute_result"
    }
   ],
   "source": [
    "WDI_pop[(WDI_pop.pop_check < 0.8) | (WDI_pop.pop_check > 1.2)]"
   ]
  },
  {
   "cell_type": "code",
   "execution_count": null,
   "metadata": {
    "collapsed": true
   },
   "outputs": [],
   "source": []
  }
 ],
 "metadata": {
  "kernelspec": {
   "display_name": "Python [conda env:GMTRA]",
   "language": "python",
   "name": "conda-env-GMTRA-py"
  },
  "language_info": {
   "codemirror_mode": {
    "name": "ipython",
    "version": 3
   },
   "file_extension": ".py",
   "mimetype": "text/x-python",
   "name": "python",
   "nbconvert_exporter": "python",
   "pygments_lexer": "ipython3",
   "version": "3.6.7"
  }
 },
 "nbformat": 4,
 "nbformat_minor": 4
}
